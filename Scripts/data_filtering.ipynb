{
 "cells": [
  {
   "cell_type": "code",
   "execution_count": 1,
   "id": "b2e5127e",
   "metadata": {},
   "outputs": [
    {
     "name": "stderr",
     "output_type": "stream",
     "text": [
      "/opt/anaconda3/lib/python3.8/site-packages/scipy/__init__.py:138: UserWarning: A NumPy version >=1.16.5 and <1.23.0 is required for this version of SciPy (detected version 1.23.2)\n",
      "  warnings.warn(f\"A NumPy version >={np_minversion} and <{np_maxversion} is required for this version of \"\n",
      "/opt/anaconda3/lib/python3.8/site-packages/IPython/core/interactiveshell.py:3165: DtypeWarning: Columns (5,7,16,17,27,31,32,33,34,38,39,40,41,43,46,47,48,49,50,51,52,53,54,55,56,57,70,76,77,79,80,82,83,84,86,87,89) have mixed types.Specify dtype option on import or set low_memory=False.\n",
      "  has_raised = await self.run_ast_nodes(code_ast.body, cell_name,\n",
      "/opt/anaconda3/lib/python3.8/site-packages/IPython/core/interactiveshell.py:3165: DtypeWarning: Columns (4,7,10,13,16,19) have mixed types.Specify dtype option on import or set low_memory=False.\n",
      "  has_raised = await self.run_ast_nodes(code_ast.body, cell_name,\n",
      "/opt/anaconda3/lib/python3.8/site-packages/IPython/core/interactiveshell.py:3165: DtypeWarning: Columns (1,3,28,29,30,31) have mixed types.Specify dtype option on import or set low_memory=False.\n",
      "  has_raised = await self.run_ast_nodes(code_ast.body, cell_name,\n"
     ]
    }
   ],
   "source": [
    "'''\n",
    "Script to filter out necessary subset\n",
    "'''\n",
    "\n",
    "import pandas as pd\n",
    "import numpy as np\n",
    "import seaborn as sns\n",
    "import matplotlib.pyplot as plt\n",
    "\n",
    "\n",
    "#loading in the data\n",
    "df = pd.read_csv('/Users/tlh4362/Downloads/SARSCoV2Biobank-ClinicalData_DATA_2022-10-07_0905.csv', encoding='latin-1')\n",
    "\n",
    "cook_county = pd.read_csv('/Users/tlh4362/Desktop/Final_datasets/cookcountyzip.csv')\n",
    "\n",
    "seq = pd.read_csv('/Users/tlh4362/Desktop/Final Sequences/seq_final_list(updated).csv')\n",
    "\n",
    "risk = pd.read_csv('/Users/tlh4362/Downloads/SARSCoV2Biobank-Justriskscores_DATA_2022-06-22_1310.csv')\n",
    "vax = pd.read_csv('/Users/tlh4362/Downloads/SARSCoV2Biobank-Vaccine_DATA_2022-10-06_1614.csv')\n",
    "labs = pd.read_csv('/Users/tlh4362/Downloads/SARSCoV2Biobank-Justlabs_DATA_2022-08-12_1528.csv')"
   ]
  },
  {
   "cell_type": "code",
   "execution_count": 2,
   "id": "a8bac38a",
   "metadata": {},
   "outputs": [
    {
     "name": "stdout",
     "output_type": "stream",
     "text": [
      "(2129, 22)\n",
      "(2120, 22)\n"
     ]
    }
   ],
   "source": [
    "#removing duplicate sequences\n",
    "to_drop = []\n",
    "for bid, count in zip(seq['Biobank.ID'].value_counts().index, seq['Biobank.ID'].value_counts().values):\n",
    "    if count > 1:\n",
    "        to_drop.append(seq[seq['Biobank.ID']==bid].index[1])\n",
    "print(seq.shape)\n",
    "seq = seq.drop(to_drop, axis = 0)\n",
    "print(seq.shape)\n"
   ]
  },
  {
   "cell_type": "code",
   "execution_count": 4,
   "id": "1d06252a",
   "metadata": {},
   "outputs": [],
   "source": [
    "#merging sequencing data to clinical data\n",
    "df['record_id'] = df['study_id']\n",
    "df = pd.merge(df, seq.loc[:,['record_id','nextclade.clade']], how = 'left')\n",
    "df['clade'] = df['nextclade.clade']\n",
    "df = df.drop('nextclade.clade', axis = 1)"
   ]
  },
  {
   "cell_type": "code",
   "execution_count": 5,
   "id": "9eee117e",
   "metadata": {
    "scrolled": true
   },
   "outputs": [
    {
     "name": "stdout",
     "output_type": "stream",
     "text": [
      "120\n"
     ]
    }
   ],
   "source": [
    "#removal of samples that are unlinked to medical record numbers\n",
    "count = 0\n",
    "rid_missing_mrn = []\n",
    "for m in range(len(df['mrn'])):\n",
    "    try:\n",
    "        int(df['mrn'].iloc[m])\n",
    "    except:\n",
    "        rid_missing_mrn.append(df['mrn'].iloc[m])\n",
    "        count += 1\n",
    "print(count)\n",
    "\n",
    "df = df.drop(df[df['mrn'].isin(rid_missing_mrn)].index)\n",
    "df['mrn'] = df['mrn'].astype(int)"
   ]
  },
  {
   "cell_type": "code",
   "execution_count": 12,
   "id": "2689aca7",
   "metadata": {},
   "outputs": [],
   "source": [
    "#limiting our dataset to March 17th, 2020 to March 17th, 2022\n",
    "df['sample_date'] = pd.to_datetime(df['sample_date'])\n",
    "\n",
    "df = df[(df['sample_date'] >= pd.to_datetime('2020-03-17')) & (df['sample_date'] <= pd.to_datetime('2022-03-17'))]"
   ]
  },
  {
   "cell_type": "code",
   "execution_count": 15,
   "id": "0c1ba3f6",
   "metadata": {},
   "outputs": [
    {
     "name": "stdout",
     "output_type": "stream",
     "text": [
      "(4, 94)\n",
      "(104, 94)\n"
     ]
    }
   ],
   "source": [
    "#dropping all patients below the age of 18\n",
    "\n",
    "df['dob'] = pd.to_datetime(df['dob'])\n",
    "\n",
    "df['age'] = df['sample_date'] - df['dob']\n",
    "\n",
    "df['age'] = [x.days/365 for x in df['age']]\n",
    "\n",
    "df = df[df['age']>=18]"
   ]
  },
  {
   "cell_type": "code",
   "execution_count": 19,
   "id": "37914546",
   "metadata": {
    "scrolled": true
   },
   "outputs": [],
   "source": [
    "#if a patient has multiple samples, we take the earliest sample so that we end with one sample per patient\n",
    "\n",
    "to_drop = []\n",
    "\n",
    "for i in range(len(df['mrn'].value_counts())):\n",
    "    mrn = df['mrn'].value_counts().index[i]\n",
    "    count = df['mrn'].value_counts().iloc[i]\n",
    "    if count > 1:\n",
    "        duplicates = df[df['mrn']==mrn]\n",
    "        first_sample_date = duplicates['sample_date'].min()\n",
    "        if len([x for x in list(duplicates['clade'].unique()) if isinstance(x, float) == False]) > 0:\n",
    "            if len([x for x in list(duplicates['clade'].unique()) if isinstance(x, float) == False]) > 1:\n",
    "            #first sample date if patient has had two sequences\n",
    "                first_sample_date = duplicates[duplicates['clade'].notnull()]['sample_date'].min()\n",
    "                to_drop.extend(list(duplicates[(duplicates['sample_date']!=duplicates['sample_date'].min())].index))\n",
    "            else:\n",
    "                first_sample_date = duplicates[duplicates['clade'].notnull()]['sample_date'].min()\n",
    "                to_drop.extend(list(duplicates[(duplicates['clade'].isnull()) | (duplicates['sample_date'] != first_sample_date)].index))\n",
    "        elif duplicates[duplicates['sample_date']== first_sample_date].shape[0] == 1:\n",
    "            to_drop.extend(list(duplicates[duplicates['sample_date']!= first_sample_date].index))\n",
    "        else:\n",
    "            idx = duplicates[duplicates['sample_date']== first_sample_date].index[0]\n",
    "            other_first_date = list(duplicates[duplicates['sample_date']== first_sample_date].index[1:])\n",
    "            not_first_date = list(duplicates[duplicates['sample_date']!= first_sample_date].index)\n",
    "            not_first_date.extend(other_first_date)\n",
    "            to_drop.extend(duplicates.loc[not_first_date,:].index)\n",
    "\n",
    "df = df.drop(to_drop, axis = 0)"
   ]
  },
  {
   "cell_type": "code",
   "execution_count": 23,
   "id": "1f962b89",
   "metadata": {},
   "outputs": [],
   "source": [
    "#only keep sequences that have zipcodes associated with Cook County, IL.\n",
    "df['zipcode'] = df['zipcode'].astype(str)\n",
    "cook_county['Zip Code'] = cook_county['Zip Code'].astype(str)\n",
    "new_zip = []\n",
    "for z in df['zipcode']:\n",
    "    if len(z) == 5:\n",
    "        new_zip.append(z)\n",
    "    else:\n",
    "        new_zip.append(z[0:5])\n",
    "df['zipcode'] = new_zip\n",
    "df = df[df['zipcode'].isin(cook_county['Zip Code'])]"
   ]
  },
  {
   "cell_type": "code",
   "execution_count": 25,
   "id": "281eded6",
   "metadata": {},
   "outputs": [],
   "source": [
    "#if a patient is missing hospital, ICU or death we assume they are not admitted and alive.\n",
    "df['ca_hosp_admit'] = df['ca_hosp_admit'].fillna(0)\n",
    "df['ca_icu'] = df['ca_icu'].fillna(0)\n",
    "df['ca_death'] = df['ca_death'].fillna(0)"
   ]
  },
  {
   "cell_type": "code",
   "execution_count": 30,
   "id": "a888b8af",
   "metadata": {},
   "outputs": [],
   "source": [
    "#if the patients have had an intubation we assume they were also in the ICU\n",
    "#if the patient was in the ICU we assume they were also hospitalized\n",
    "\n",
    "\n",
    "idx = df[(df['ca_intub']==1) & (df['ca_icu']==0)].index\n",
    "\n",
    "df.at[idx, 'ca_icu']= 1\n",
    "df.at[idx, 'ca_icu_admit_dt'] = df.loc[idx, 'ca_intub_dt']\n",
    "\n",
    "for mrn in df[(df['ca_intub']==1) & (df['ca_icu'].isnull())]['mrn']:\n",
    "    idx = df[df['mrn']==mrn].index\n",
    "    df.at[idx, 'ca_icu'] = 1\n",
    "    df.at[idx, 'ca_icu_admit_dt'] = df[df['mrn']==mrn]['ca_intub_dt'].iloc[0]\n",
    "\n",
    "for mrn in df[(df['ca_icu']==1) & (df['ca_hosp_admit']==0)]['mrn']:\n",
    "    idx = df[df['mrn']==mrn].index\n",
    "    df.at[idx, 'ca_hosp_admit'] = 1\n",
    "    df.at[idx, 'ca_hosp_admit_dt'] = df[df['mrn']==mrn]['ca_icu_admit_dt'].iloc[0]\n",
    "    \n",
    "    \n",
    "for mrn in df[(df['ca_icu']==1) & (df['ca_hosp_admit'].isnull())]['mrn']:\n",
    "    idx = df[df['mrn']==mrn].index\n",
    "    df.at[idx, 'ca_hosp_admit'] = 1\n",
    "    df.at[idx, 'ca_hosp_admit_dt'] = df[df['mrn']==mrn]['ca_icu_admit_dt'].iloc[0]\n",
    "    \n",
    "    "
   ]
  },
  {
   "cell_type": "code",
   "execution_count": 35,
   "id": "14960a05",
   "metadata": {},
   "outputs": [],
   "source": [
    "#if the patients have an outcome date we assume they had the associated outcome\n",
    "\n",
    "idx = df[(df['ca_hosp_admit_dt'].notnull()) & (df['ca_hosp_admit']!=1)].index\n",
    "\n",
    "df.at[idx, 'ca_hosp_admit'] = 1\n",
    "\n",
    "idx = df[(df['ca_supp_oxy_st'].notnull()) & (df['ca_supp_oxy']!=1)].index\n",
    "\n",
    "df.at[idx, 'ca_supp_oxy'] = 1\n",
    "\n",
    "idx = df[(df['ca_ecmo_dt'].notnull()) & (df['ca_ecmo']!=1)].index\n",
    "\n",
    "df.at[idx, 'ca_ecmo'] = 1"
   ]
  },
  {
   "cell_type": "code",
   "execution_count": 41,
   "id": "d5a4843c",
   "metadata": {},
   "outputs": [],
   "source": [
    "df = df.rename({'ï»¿record_id':'record_id'})"
   ]
  },
  {
   "cell_type": "code",
   "execution_count": 42,
   "id": "22f2f0d2",
   "metadata": {},
   "outputs": [],
   "source": [
    "df['record_id'] = df.iloc[:,0]"
   ]
  },
  {
   "cell_type": "code",
   "execution_count": 45,
   "id": "0481b781",
   "metadata": {
    "scrolled": true
   },
   "outputs": [],
   "source": [
    "#dates were determined by calculating the 7-day moving average and picking the date with the lowest count before the beginning of a surge.\n",
    "\n",
    "wave1 = pd.to_datetime('2020-03-17')\n",
    "wave2 = pd.to_datetime('2020-09-15')\n",
    "wave3 = pd.to_datetime('2021-03-15')\n",
    "wave4 = pd.to_datetime('2021-06-30')\n",
    "wave5 = pd.to_datetime('2021-10-23')\n",
    "\n",
    "\n",
    "wave1_idx = df[(df['sample_date'] >= wave1) & (df['sample_date'] < wave2)].index\n",
    "wave2_idx = df[(df['sample_date'] >= wave2) & (df['sample_date'] < wave3)].index\n",
    "wave3_idx = df[(df['sample_date'] >= wave3) & (df['sample_date'] < wave4)].index\n",
    "wave4_idx = df[(df['sample_date'] >= wave4) & (df['sample_date'] < wave5)].index\n",
    "wave5_idx = df[(df['sample_date'] >= wave5)].index\n",
    "\n",
    "df.at[wave1_idx,'wave']='wave1'\n",
    "df.at[wave1_idx,'comorbid_sum_median'] = df.loc[wave1_idx, 'ca_comorbid_sum'].median()\n",
    "\n",
    "df.at[wave2_idx,'wave']='wave2'\n",
    "df.at[wave2_idx,'comorbid_sum_median'] = df.loc[wave2_idx, 'ca_comorbid_sum'].median()\n",
    "\n",
    "df.at[wave3_idx,'wave']='wave3'\n",
    "df.at[wave3_idx,'comorbid_sum_median'] = df.loc[wave3_idx, 'ca_comorbid_sum'].median()\n",
    "\n",
    "df.at[wave4_idx,'wave']='wave4'\n",
    "df.at[wave4_idx,'comorbid_sum_median'] = df.loc[wave4_idx, 'ca_comorbid_sum'].median()\n",
    "\n",
    "df.at[wave5_idx,'wave']='wave5'\n",
    "df.at[wave5_idx,'comorbid_sum_median'] = df.loc[wave5_idx, 'ca_comorbid_sum'].median()\n"
   ]
  },
  {
   "cell_type": "code",
   "execution_count": 48,
   "id": "5d11ab04",
   "metadata": {},
   "outputs": [],
   "source": [
    "df = df.sort_values(by='sample_date')"
   ]
  },
  {
   "cell_type": "code",
   "execution_count": 52,
   "id": "210d4cbd",
   "metadata": {},
   "outputs": [],
   "source": [
    "#mergining in vaccination data, risk scores and laboratory measurements\n",
    "vax = vax[vax['record_id'].isin(df['record_id'])]\n",
    "risk = risk[risk['record_id'].isin(df['record_id'])]\n",
    "labs = labs[labs['record_id'].isin(df['record_id'])]"
   ]
  },
  {
   "cell_type": "code",
   "execution_count": 56,
   "id": "70ca2e7d",
   "metadata": {},
   "outputs": [],
   "source": [
    "vax_merge = pd.merge(df, vax, on = 'record_id')\n",
    "for c in vax_merge.columns:\n",
    "    if '_x' in c:\n",
    "        vax_merge = vax_merge.drop(c, axis = 1)\n",
    "    elif '_y' in c:\n",
    "        new_col = c.split('_y')[0]"
   ]
  },
  {
   "cell_type": "code",
   "execution_count": 59,
   "id": "878c0a68",
   "metadata": {},
   "outputs": [],
   "source": [
    "vax_merge = vax_merge.rename({c:new_col}, axis = 1)\n",
    "vax_merge['ca_vax1_date'] = pd.to_datetime(vax_merge['ca_vax1_date'])\n",
    "vax_merge['ca_vax2_date'] = pd.to_datetime(vax_merge['ca_vax2_date'])\n",
    "vax_merge['ca_vax3_date'] = pd.to_datetime(vax_merge['ca_vax3_date'])\n",
    "vax_merge['ca_vax4_date'] = pd.to_datetime(vax_merge['ca_vax4_date'])\n",
    "vax_merge['ca_vax5_date'] = pd.to_datetime(vax_merge['ca_vax5_date'])"
   ]
  },
  {
   "cell_type": "code",
   "execution_count": 61,
   "id": "c7a86905",
   "metadata": {
    "scrolled": false
   },
   "outputs": [],
   "source": [
    "#determining vaccination status. one dose of J&J is fully vaccinated whereas two doses of other vaccines are considered fully vaccinated\n",
    "#the dosage is only considered effective if it is at least 14 days before sampling\n",
    "\n",
    "\n",
    "vax_date = ['ca_vax1_date', 'ca_vax2_date', 'ca_vax3_date', 'ca_vax4_date', 'ca_vax5_date']\n",
    "manufacturer = ['ca_vaccine', 'ca_vaccine2', 'ca_vaccine3', 'ca_vaccine4', 'ca_vaccine5']\n",
    "#1 = pfizer, 2 = moderna, 3 = j&j, 4, 5\n",
    "\n",
    "vax_status = []\n",
    "for idx in vax_merge.index:\n",
    "    dates = vax_merge.loc[idx, vax_date]\n",
    "    sample_date = vax_merge.loc[idx, 'sample_date']\n",
    "    num_doses = vax_merge.loc[idx, vax_date].notnull().sum()\n",
    "    \n",
    "    if num_doses >= 3:\n",
    "        last_vaccinated_date = dates[dates.notnull()].iloc[-1]\n",
    "        days_diff = sample_date - last_vaccinated_date\n",
    "        days_diff = days_diff.days\n",
    "        if days_diff >= 14:\n",
    "            vax_status.append('Boosted') #boosted\n",
    "        else:\n",
    "            second_to_last_vaccinated_date = dates[dates.notnull()].iloc[-2]\n",
    "            \n",
    "            days_diff = sample_date - second_to_last_vaccinated_date\n",
    "            days_diff = days_diff.days\n",
    "            if days_diff >= 14: #if the second dose is over 14 days out from sampling\n",
    "                if vax_merge.loc[idx, 'ca_vaccine'] == 3: #if first dose is j&j then the individual is considered boosted\n",
    "                    vax_status.append('Boosted')\n",
    "                else:\n",
    "                    vax_status.append('Fully Vaccinated')\n",
    "            else:\n",
    "                third_to_last_vaccinated_date = dates[dates.notnull()].iloc[-3]\n",
    "                days_diff = sample_date - third_to_last_vaccinated_date\n",
    "                days_diff = days_diff.days\n",
    "                if days_diff >= 14:\n",
    "                    if vax_merge.loc[idx, 'ca_vaccine'] == 3: #if first dose is j&j then the individual is considered boosted\n",
    "                        vax_status.append('Fully Vaccinated')\n",
    "                    else:   \n",
    "                        vax_status.append('Partially Vaccinated')\n",
    "                else:\n",
    "                    vax_status.append('Unvaccinated')\n",
    "   \n",
    "    elif num_doses == 2:\n",
    "        last_vaccinated_date = dates[dates.notnull()].iloc[-1]\n",
    "        days_diff = sample_date - last_vaccinated_date\n",
    "        days_diff = days_diff.days\n",
    "        if days_diff >= 14:\n",
    "            if vax_merge.loc[idx, 'ca_vaccine'] == 3: #if first dose is j&j then the individual is considered boosted\n",
    "                vax_status.append('Boosted')\n",
    "            else:\n",
    "                vax_status.append('Fully Vaccinated') #boosted\n",
    "        else:\n",
    "            second_to_last_vaccinated_date = dates[dates.notnull()].iloc[-2]\n",
    "            days_diff = sample_date - second_to_last_vaccinated_date\n",
    "            days_diff = days_diff.days\n",
    "            if days_diff >= 14:\n",
    "                if vax_merge.loc[idx, 'ca_vaccine'] == 3:\n",
    "                    vax_status.append('Fully Vaccinated')\n",
    "                else:\n",
    "                    vax_status.append('Partially Vaccinated')\n",
    "            else:\n",
    "                vax_status.append('Unvaccinated')\n",
    "    \n",
    "    elif num_doses == 1:\n",
    "        last_vaccinated_date = dates[dates.notnull()].iloc[0]\n",
    "        days_diff = sample_date - last_vaccinated_date\n",
    "        days_diff = days_diff.days\n",
    "        if days_diff >= 14:\n",
    "            if vax_merge.loc[idx, 'ca_vaccine'] == 3:\n",
    "                vax_status.append('Fully Vaccinated')\n",
    "            else:\n",
    "                vax_status.append('Partially Vaccinated')\n",
    "        else:\n",
    "            vax_status.append('Unvaccinated')\n",
    "    else:\n",
    "        vax_status.append('Unvaccinated')\n",
    "    \n",
    "    "
   ]
  },
  {
   "cell_type": "code",
   "execution_count": 63,
   "id": "e4a1d249",
   "metadata": {},
   "outputs": [],
   "source": [
    "vax_merge['Vaccination_status'] = vax_status"
   ]
  },
  {
   "cell_type": "code",
   "execution_count": 67,
   "id": "9bfb7a45",
   "metadata": {},
   "outputs": [
    {
     "name": "stdout",
     "output_type": "stream",
     "text": [
      "done\n"
     ]
    }
   ],
   "source": [
    "#calculating total number of total doses per patient\n",
    "#calculating total number of doses (vax date) before infection(sample date) per patient \n",
    "\n",
    "doses_dict = {}\n",
    "dose_before_inf = {}\n",
    "for p in [('ca_vaccine', 'ca_vax1_date'),\n",
    "         ('ca_vaccine2', 'ca_vax2_date'),\n",
    "         ('ca_vaccine3', 'ca_vax3_date'),\n",
    "         ('ca_vaccine4', 'ca_vax4_date'),\n",
    "         ('ca_vaccine5', 'ca_vax5_date')]:\n",
    "    vax_merge[p[1]] = pd.to_datetime(vax_merge[p[1]])\n",
    "    vax_status = []\n",
    "    doses_before_infection = []\n",
    "    total_doses = []\n",
    "    for i in vax_merge.index:\n",
    "        if str(vax_merge.loc[i, p[0]]) == 'nan' and str(vax_merge.loc[i, p[1]]) == 'NaT':\n",
    "            vax_status.append(0) #both missing\n",
    "            total_doses.append(0)\n",
    "            doses_before_infection.append(0)\n",
    "            \n",
    "        elif str(vax_merge.loc[i, p[0]]) == 'nan' and str(vax_merge.loc[i, p[1]]) != 'NaT':\n",
    "            vax_status.append(1) #manufacturer missing\n",
    "            if pd.to_datetime(vax_merge.loc[i,  p[1]]) < vax_merge.loc[i, 'sample_date']: #if the vaccination date is before the sample date\n",
    "                doses_before_infection.append(1)\n",
    "            else:\n",
    "                doses_before_infection.append(0)\n",
    "            total_doses.append(1)\n",
    "            \n",
    "        elif str(vax_merge.loc[i, p[0]]) != 'nan' and str(vax_merge.loc[i, p[1]]) == 'NaT':\n",
    "            vax_status.append(2) #date missing\n",
    "            total_doses.append(1)\n",
    "            doses_before_infection.append(None)\n",
    "            \n",
    "        elif str(vax_merge.loc[i, p[0]]) != 'nan' and str(vax_merge.loc[i, p[1]]) != 'NaT':\n",
    "            if pd.to_datetime(vax_merge.loc[i,  p[1]]) < vax_merge.loc[i, 'sample_date']: #if the vaccination date is before the sample date\n",
    "                doses_before_infection.append(1)\n",
    "            else:\n",
    "                doses_before_infection.append(0)\n",
    "                \n",
    "            vax_status.append(3) #both included\n",
    "            total_doses.append(1)\n",
    "        else:\n",
    "            doses_before_infection.append(0)\n",
    "            vax_status.append(4) #unsure\n",
    "            total_doses.append(0)\n",
    "            \n",
    "    doses_dict[p[1].split('_date')[0]] = total_doses\n",
    "    dose_before_inf[p[1].split('_date')[0]] = doses_before_infection\n",
    "    vax_merge[p[1].split('_date')[0] + '_status'] = vax_status\n",
    "\n",
    "#adding up each dose for the total number of doses before infection    \n",
    "sum_list_bi = []\n",
    "for k,v in dose_before_inf.items():\n",
    "    if '1' in k:\n",
    "        sum_list_bi = v\n",
    "        next\n",
    "    else:\n",
    "        sum_list_bi = [a + b for a,b in zip(v, sum_list_bi)]\n",
    "vax_merge['doses_before_infection'] = sum_list_bi\n",
    "\n",
    "sum_list_total = []\n",
    "for k,v in doses_dict.items():\n",
    "    if '1' in k:\n",
    "        sum_list_total = v\n",
    "        next\n",
    "    else:\n",
    "        sum_list_total = [a + b for a,b in zip(v, sum_list_total)]\n",
    "vax_merge['doses'] = sum_list_total\n",
    "\n",
    "print('done')"
   ]
  },
  {
   "cell_type": "code",
   "execution_count": 70,
   "id": "02969481",
   "metadata": {},
   "outputs": [],
   "source": [
    "#for comorbidities, if missing data we assume they don't have the comorbidity\n",
    "\n",
    "for c in [ 'ca_asthma', 'ca_copd', 'ca_cancer', 'ca_cvd', 'ca_cld', 'ca_dm', 'ca_hiv', 'ca_htn' , 'ca_immune', \n",
    "                        'ca_renal', 'ca_comorbid_sum']:\n",
    "    df[c] = df[c].fillna(0)"
   ]
  },
  {
   "cell_type": "code",
   "execution_count": 75,
   "id": "9b15d9a2",
   "metadata": {},
   "outputs": [],
   "source": [
    "#merged vaccination data with the final dataset\n",
    "df = pd.merge(df, vax_merge.loc[:,['record_id','ca_vaccine', 'ca_vax1_date', 'ca_vax1_site', 'ca_vaccine2',\n",
    "       'ca_vax2_date', 'ca_vax2_site', 'ca_vaccine3', 'ca_vax3_date',\n",
    "       'ca_vax3_site', 'ca_vaccine4', 'ca_vax4_date', 'ca_vax4_site',\n",
    "       'ca_vaccine5', 'ca_vax5_date', 'ca_vax5_site', 'doses_before_infection',\n",
    "'doses']], how = 'left')"
   ]
  },
  {
   "cell_type": "code",
   "execution_count": 76,
   "id": "4bc2d1cc",
   "metadata": {},
   "outputs": [],
   "source": [
    "df = df.drop_duplicates()"
   ]
  }
 ],
 "metadata": {
  "kernelspec": {
   "display_name": "Python 3",
   "language": "python",
   "name": "python3"
  },
  "language_info": {
   "codemirror_mode": {
    "name": "ipython",
    "version": 3
   },
   "file_extension": ".py",
   "mimetype": "text/x-python",
   "name": "python",
   "nbconvert_exporter": "python",
   "pygments_lexer": "ipython3",
   "version": "3.8.8"
  }
 },
 "nbformat": 4,
 "nbformat_minor": 5
}
