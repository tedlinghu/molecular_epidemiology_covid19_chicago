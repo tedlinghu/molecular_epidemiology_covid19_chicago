{
 "cells": [
  {
   "cell_type": "code",
   "execution_count": 12,
   "id": "f765e03d",
   "metadata": {},
   "outputs": [
    {
     "name": "stderr",
     "output_type": "stream",
     "text": [
      "/opt/anaconda3/lib/python3.8/site-packages/IPython/core/interactiveshell.py:3165: DtypeWarning: Columns (8,18,28,51,53) have mixed types.Specify dtype option on import or set low_memory=False.\n",
      "  has_raised = await self.run_ast_nodes(code_ast.body, cell_name,\n"
     ]
    }
   ],
   "source": [
    "import pandas as pd\n",
    "\n",
    "df = pd.read_csv('/Users/tlh4362/Desktop/final_dataset_analysis_11_2.csv')\n",
    "vax = pd.read_csv('/Users/tlh4362/Desktop/vax_status.csv')"
   ]
  },
  {
   "cell_type": "code",
   "execution_count": 14,
   "id": "793990cd",
   "metadata": {},
   "outputs": [],
   "source": [
    "#formatting BMI properly\n",
    "new_bmi = []\n",
    "for x in df['ca_bmi']:\n",
    "    if isinstance(x, str):\n",
    "        if len(x.split(','))==1:\n",
    "             new_bmi.append(float(x.split(',')[0]))\n",
    "        else:\n",
    "            new_bmi.append(float('{}.{}'.format(x.split(',')[0], x.split(',')[1])))\n",
    "    else:\n",
    "        new_bmi.append(None)\n",
    "\n",
    "df['ca_bmi'] = new_bmi"
   ]
  },
  {
   "cell_type": "code",
   "execution_count": 15,
   "id": "63623078",
   "metadata": {},
   "outputs": [],
   "source": [
    "df = pd.merge(df, vax, how = 'left')\n",
    "#converting race labels \n",
    "df['ca_race'] = df['ca_race'].replace({\n",
    "1:'White',\n",
    "2:'Black or African American',\n",
    "3:'Native Hawaiian or Other Pacific Islander',\n",
    "4:'Asian',\n",
    "5:'American Indian or Alaska Native', \n",
    "6:'Race_Unknown',\n",
    "7:'Race_Other',\n",
    "8:'Race_Unable to Answer',\n",
    "9:'Race_Declined'})\n",
    "\n",
    "#converting ethnicity labels \n",
    "df['ca_ethnicity'] = df['ca_ethnicity'].replace({\n",
    "    1:'Not Hispanic or Latino', \n",
    "    2: 'Hispanic or Latino', \n",
    "    3:'Ethnicity_Declined', \n",
    "    4:'Ethnicity_Unknown'})\n",
    "\n",
    "df['sex'] = df['sex'].replace({1:'Female',2:'Male'})\n",
    "df['sex'] = df['sex'].fillna('Female')\n",
    "df['ca_race'] = df['ca_race'].fillna('Race_Unknown')"
   ]
  },
  {
   "cell_type": "code",
   "execution_count": 16,
   "id": "f6a061e7",
   "metadata": {},
   "outputs": [],
   "source": [
    "demo = pd.DataFrame()\n",
    "\n",
    "for c in ['sex','ca_race','ca_ethnicity','Vaccination_status']:\n",
    "    demo = pd.concat([demo,pd.get_dummies(df[c])], axis = 1)\n",
    "demo['wave'] = df['wave']\n",
    "\n",
    "for c in ['age',\n",
    "'ca_bmi',\n",
    "'ca_asthma',\n",
    "'ca_copd',\n",
    "'ca_cancer',\n",
    "'ca_cvd',\n",
    "'ca_cld',\n",
    "'ca_dm',\n",
    "'ca_hiv',\n",
    "'ca_htn',\n",
    "'ca_immune',\n",
    "'ca_renal',\n",
    "'ca_sot']:\n",
    "    demo[c] = df[c]"
   ]
  },
  {
   "cell_type": "code",
   "execution_count": 17,
   "id": "fec5b192",
   "metadata": {},
   "outputs": [],
   "source": [
    "demo = demo.rename({'age':'Age',\n",
    "'ca_bmi':'Body Mass Index',\n",
    "'ca_asthma':'Asthma',\n",
    "'ca_copd':'Chronic Obstructive Pulmonary Disease',\n",
    "'ca_cancer':'Cancer',\n",
    "'ca_cvd':'Cardiovascular Disease',\n",
    "'ca_cld':'Chronic Liver Disease',\n",
    "'ca_dm':'Diabetes Mellitus',\n",
    "'ca_hiv':'Human Immunodeficiency Virus',\n",
    "'ca_htn':'Hypertension',\n",
    "'ca_immune':'Immune Disorder',\n",
    "'ca_renal':'Renal Disease',\n",
    "'ca_sot':'Solid Organ Transplant'}, axis = 1)\n",
    "demo['Solid Organ Transplant'] = demo['Solid Organ Transplant'].fillna(0)\n"
   ]
  },
  {
   "cell_type": "code",
   "execution_count": 19,
   "id": "b2561c4f",
   "metadata": {},
   "outputs": [],
   "source": [
    "# demo.to_csv('/Users/tlh4362/Desktop/demo.csv', index = False)"
   ]
  },
  {
   "cell_type": "code",
   "execution_count": null,
   "id": "469cf45c",
   "metadata": {},
   "outputs": [],
   "source": [
    "#this dataset is then followed by the gtsummary package in R"
   ]
  },
  {
   "cell_type": "code",
   "execution_count": null,
   "id": "00fef98f",
   "metadata": {},
   "outputs": [],
   "source": []
  }
 ],
 "metadata": {
  "kernelspec": {
   "display_name": "Python 3",
   "language": "python",
   "name": "python3"
  },
  "language_info": {
   "codemirror_mode": {
    "name": "ipython",
    "version": 3
   },
   "file_extension": ".py",
   "mimetype": "text/x-python",
   "name": "python",
   "nbconvert_exporter": "python",
   "pygments_lexer": "ipython3",
   "version": "3.8.8"
  }
 },
 "nbformat": 4,
 "nbformat_minor": 5
}
